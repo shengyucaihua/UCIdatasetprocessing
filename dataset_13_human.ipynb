{
 "cells": [
  {
   "cell_type": "code",
   "execution_count": 3,
   "metadata": {
    "collapsed": false
   },
   "outputs": [],
   "source": [
    "train=pd.read_csv(\"/Users/bruce/Desktop/datasets/human/train.csv\")\n",
    "test=pd.read_csv(\"/Users/bruce/Desktop/datasets/human/test.csv\")"
   ]
  },
  {
   "cell_type": "code",
   "execution_count": 2,
   "metadata": {
    "collapsed": true
   },
   "outputs": [],
   "source": [
    "import numpy as np # linear algebra\n",
    "import pandas as pd # data processing, CSV file I/O (e.g. pd.read_csv)\n",
    "import matplotlib.pyplot as plt\n",
    "import seaborn as sns\n",
    "from sklearn import preprocessing"
   ]
  },
  {
   "cell_type": "code",
   "execution_count": 4,
   "metadata": {
    "collapsed": false
   },
   "outputs": [
    {
     "data": {
      "text/html": [
       "<div>\n",
       "<table border=\"1\" class=\"dataframe\">\n",
       "  <thead>\n",
       "    <tr style=\"text-align: right;\">\n",
       "      <th></th>\n",
       "      <th>tBodyAcc-mean()-X</th>\n",
       "      <th>tBodyAcc-mean()-Y</th>\n",
       "      <th>tBodyAcc-mean()-Z</th>\n",
       "      <th>tBodyAcc-std()-X</th>\n",
       "      <th>tBodyAcc-std()-Y</th>\n",
       "      <th>tBodyAcc-std()-Z</th>\n",
       "      <th>tBodyAcc-mad()-X</th>\n",
       "      <th>tBodyAcc-mad()-Y</th>\n",
       "      <th>tBodyAcc-mad()-Z</th>\n",
       "      <th>tBodyAcc-max()-X</th>\n",
       "      <th>...</th>\n",
       "      <th>fBodyBodyGyroJerkMag-kurtosis()</th>\n",
       "      <th>angle(tBodyAccMean,gravity)</th>\n",
       "      <th>angle(tBodyAccJerkMean),gravityMean)</th>\n",
       "      <th>angle(tBodyGyroMean,gravityMean)</th>\n",
       "      <th>angle(tBodyGyroJerkMean,gravityMean)</th>\n",
       "      <th>angle(X,gravityMean)</th>\n",
       "      <th>angle(Y,gravityMean)</th>\n",
       "      <th>angle(Z,gravityMean)</th>\n",
       "      <th>subject</th>\n",
       "      <th>Activity</th>\n",
       "    </tr>\n",
       "  </thead>\n",
       "  <tbody>\n",
       "    <tr>\n",
       "      <th>0</th>\n",
       "      <td>0.288585</td>\n",
       "      <td>-0.020294</td>\n",
       "      <td>-0.132905</td>\n",
       "      <td>-0.995279</td>\n",
       "      <td>-0.983111</td>\n",
       "      <td>-0.913526</td>\n",
       "      <td>-0.995112</td>\n",
       "      <td>-0.983185</td>\n",
       "      <td>-0.923527</td>\n",
       "      <td>-0.934724</td>\n",
       "      <td>...</td>\n",
       "      <td>-0.710304</td>\n",
       "      <td>-0.112754</td>\n",
       "      <td>0.030400</td>\n",
       "      <td>-0.464761</td>\n",
       "      <td>-0.018446</td>\n",
       "      <td>-0.841247</td>\n",
       "      <td>0.179941</td>\n",
       "      <td>-0.058627</td>\n",
       "      <td>1</td>\n",
       "      <td>STANDING</td>\n",
       "    </tr>\n",
       "    <tr>\n",
       "      <th>1</th>\n",
       "      <td>0.278419</td>\n",
       "      <td>-0.016411</td>\n",
       "      <td>-0.123520</td>\n",
       "      <td>-0.998245</td>\n",
       "      <td>-0.975300</td>\n",
       "      <td>-0.960322</td>\n",
       "      <td>-0.998807</td>\n",
       "      <td>-0.974914</td>\n",
       "      <td>-0.957686</td>\n",
       "      <td>-0.943068</td>\n",
       "      <td>...</td>\n",
       "      <td>-0.861499</td>\n",
       "      <td>0.053477</td>\n",
       "      <td>-0.007435</td>\n",
       "      <td>-0.732626</td>\n",
       "      <td>0.703511</td>\n",
       "      <td>-0.844788</td>\n",
       "      <td>0.180289</td>\n",
       "      <td>-0.054317</td>\n",
       "      <td>1</td>\n",
       "      <td>STANDING</td>\n",
       "    </tr>\n",
       "    <tr>\n",
       "      <th>2</th>\n",
       "      <td>0.279653</td>\n",
       "      <td>-0.019467</td>\n",
       "      <td>-0.113462</td>\n",
       "      <td>-0.995380</td>\n",
       "      <td>-0.967187</td>\n",
       "      <td>-0.978944</td>\n",
       "      <td>-0.996520</td>\n",
       "      <td>-0.963668</td>\n",
       "      <td>-0.977469</td>\n",
       "      <td>-0.938692</td>\n",
       "      <td>...</td>\n",
       "      <td>-0.760104</td>\n",
       "      <td>-0.118559</td>\n",
       "      <td>0.177899</td>\n",
       "      <td>0.100699</td>\n",
       "      <td>0.808529</td>\n",
       "      <td>-0.848933</td>\n",
       "      <td>0.180637</td>\n",
       "      <td>-0.049118</td>\n",
       "      <td>1</td>\n",
       "      <td>STANDING</td>\n",
       "    </tr>\n",
       "    <tr>\n",
       "      <th>3</th>\n",
       "      <td>0.279174</td>\n",
       "      <td>-0.026201</td>\n",
       "      <td>-0.123283</td>\n",
       "      <td>-0.996091</td>\n",
       "      <td>-0.983403</td>\n",
       "      <td>-0.990675</td>\n",
       "      <td>-0.997099</td>\n",
       "      <td>-0.982750</td>\n",
       "      <td>-0.989302</td>\n",
       "      <td>-0.938692</td>\n",
       "      <td>...</td>\n",
       "      <td>-0.482845</td>\n",
       "      <td>-0.036788</td>\n",
       "      <td>-0.012892</td>\n",
       "      <td>0.640011</td>\n",
       "      <td>-0.485366</td>\n",
       "      <td>-0.848649</td>\n",
       "      <td>0.181935</td>\n",
       "      <td>-0.047663</td>\n",
       "      <td>1</td>\n",
       "      <td>STANDING</td>\n",
       "    </tr>\n",
       "    <tr>\n",
       "      <th>4</th>\n",
       "      <td>0.276629</td>\n",
       "      <td>-0.016570</td>\n",
       "      <td>-0.115362</td>\n",
       "      <td>-0.998139</td>\n",
       "      <td>-0.980817</td>\n",
       "      <td>-0.990482</td>\n",
       "      <td>-0.998321</td>\n",
       "      <td>-0.979672</td>\n",
       "      <td>-0.990441</td>\n",
       "      <td>-0.942469</td>\n",
       "      <td>...</td>\n",
       "      <td>-0.699205</td>\n",
       "      <td>0.123320</td>\n",
       "      <td>0.122542</td>\n",
       "      <td>0.693578</td>\n",
       "      <td>-0.615971</td>\n",
       "      <td>-0.847865</td>\n",
       "      <td>0.185151</td>\n",
       "      <td>-0.043892</td>\n",
       "      <td>1</td>\n",
       "      <td>STANDING</td>\n",
       "    </tr>\n",
       "  </tbody>\n",
       "</table>\n",
       "<p>5 rows × 563 columns</p>\n",
       "</div>"
      ],
      "text/plain": [
       "   tBodyAcc-mean()-X  tBodyAcc-mean()-Y  tBodyAcc-mean()-Z  tBodyAcc-std()-X  \\\n",
       "0           0.288585          -0.020294          -0.132905         -0.995279   \n",
       "1           0.278419          -0.016411          -0.123520         -0.998245   \n",
       "2           0.279653          -0.019467          -0.113462         -0.995380   \n",
       "3           0.279174          -0.026201          -0.123283         -0.996091   \n",
       "4           0.276629          -0.016570          -0.115362         -0.998139   \n",
       "\n",
       "   tBodyAcc-std()-Y  tBodyAcc-std()-Z  tBodyAcc-mad()-X  tBodyAcc-mad()-Y  \\\n",
       "0         -0.983111         -0.913526         -0.995112         -0.983185   \n",
       "1         -0.975300         -0.960322         -0.998807         -0.974914   \n",
       "2         -0.967187         -0.978944         -0.996520         -0.963668   \n",
       "3         -0.983403         -0.990675         -0.997099         -0.982750   \n",
       "4         -0.980817         -0.990482         -0.998321         -0.979672   \n",
       "\n",
       "   tBodyAcc-mad()-Z  tBodyAcc-max()-X    ...     \\\n",
       "0         -0.923527         -0.934724    ...      \n",
       "1         -0.957686         -0.943068    ...      \n",
       "2         -0.977469         -0.938692    ...      \n",
       "3         -0.989302         -0.938692    ...      \n",
       "4         -0.990441         -0.942469    ...      \n",
       "\n",
       "   fBodyBodyGyroJerkMag-kurtosis()  angle(tBodyAccMean,gravity)  \\\n",
       "0                        -0.710304                    -0.112754   \n",
       "1                        -0.861499                     0.053477   \n",
       "2                        -0.760104                    -0.118559   \n",
       "3                        -0.482845                    -0.036788   \n",
       "4                        -0.699205                     0.123320   \n",
       "\n",
       "   angle(tBodyAccJerkMean),gravityMean)  angle(tBodyGyroMean,gravityMean)  \\\n",
       "0                              0.030400                         -0.464761   \n",
       "1                             -0.007435                         -0.732626   \n",
       "2                              0.177899                          0.100699   \n",
       "3                             -0.012892                          0.640011   \n",
       "4                              0.122542                          0.693578   \n",
       "\n",
       "   angle(tBodyGyroJerkMean,gravityMean)  angle(X,gravityMean)  \\\n",
       "0                             -0.018446             -0.841247   \n",
       "1                              0.703511             -0.844788   \n",
       "2                              0.808529             -0.848933   \n",
       "3                             -0.485366             -0.848649   \n",
       "4                             -0.615971             -0.847865   \n",
       "\n",
       "   angle(Y,gravityMean)  angle(Z,gravityMean)  subject  Activity  \n",
       "0              0.179941             -0.058627        1  STANDING  \n",
       "1              0.180289             -0.054317        1  STANDING  \n",
       "2              0.180637             -0.049118        1  STANDING  \n",
       "3              0.181935             -0.047663        1  STANDING  \n",
       "4              0.185151             -0.043892        1  STANDING  \n",
       "\n",
       "[5 rows x 563 columns]"
      ]
     },
     "execution_count": 4,
     "metadata": {},
     "output_type": "execute_result"
    }
   ],
   "source": [
    "train.head(5)"
   ]
  },
  {
   "cell_type": "code",
   "execution_count": 5,
   "metadata": {
    "collapsed": false
   },
   "outputs": [
    {
     "data": {
      "text/plain": [
       "(7352, 563)"
      ]
     },
     "execution_count": 5,
     "metadata": {},
     "output_type": "execute_result"
    }
   ],
   "source": [
    "train.shape"
   ]
  },
  {
   "cell_type": "code",
   "execution_count": 6,
   "metadata": {
    "collapsed": false
   },
   "outputs": [
    {
     "data": {
      "text/plain": [
       "(2947, 563)"
      ]
     },
     "execution_count": 6,
     "metadata": {},
     "output_type": "execute_result"
    }
   ],
   "source": [
    "test.shape"
   ]
  },
  {
   "cell_type": "code",
   "execution_count": 46,
   "metadata": {
    "collapsed": true
   },
   "outputs": [],
   "source": [
    "X_train=train.drop(\"Activity\",axis=1)\n",
    "Y_train=train[\"Activity\"].values\n",
    "X_test=test.drop(\"Activity\",axis=1)\n",
    "Y_test=test[\"Activity\"].values"
   ]
  },
  {
   "cell_type": "code",
   "execution_count": 47,
   "metadata": {
    "collapsed": false
   },
   "outputs": [
    {
     "data": {
      "text/plain": [
       "array(['LAYING', 'SITTING', 'STANDING', 'WALKING', 'WALKING_DOWNSTAIRS',\n",
       "       'WALKING_UPSTAIRS'], dtype=object)"
      ]
     },
     "execution_count": 47,
     "metadata": {},
     "output_type": "execute_result"
    }
   ],
   "source": [
    "np.unique(Y_train)"
   ]
  },
  {
   "cell_type": "code",
   "execution_count": 35,
   "metadata": {
    "collapsed": true
   },
   "outputs": [],
   "source": [
    "from sklearn import preprocessing\n",
    "\n",
    "encoder = preprocessing.LabelEncoder()\n",
    "\n",
    "encoder.fit(Y_train)\n",
    "Y_train = encoder.transform(Y_train)\n",
    "\n",
    "encoder.fit(Y_test)\n",
    "Y_test = encoder.transform(Y_test)"
   ]
  },
  {
   "cell_type": "code",
   "execution_count": 12,
   "metadata": {
    "collapsed": false
   },
   "outputs": [],
   "source": [
    "from sklearn.model_selection import KFold\n",
    "from sklearn.model_selection import cross_val_score\n",
    "from sklearn.ensemble import RandomForestClassifier"
   ]
  },
  {
   "cell_type": "code",
   "execution_count": 13,
   "metadata": {
    "collapsed": false
   },
   "outputs": [
    {
     "name": "stdout",
     "output_type": "stream",
     "text": [
      "Ranom Forest         91.05 (+/-) 4.40 \n"
     ]
    }
   ],
   "source": [
    "model=RandomForestClassifier(n_estimators=100)\n",
    "kfold = KFold(n_splits=10, random_state=0)\n",
    "cv_result = cross_val_score(model,X_train,Y_train, cv = kfold,scoring = \"accuracy\")\n",
    "results=[\"Ranom Forest\",cv_result.mean(),cv_result.std()]\n",
    "\n",
    "print('{:20s} {:2.2f} (+/-) {:2.2f} '.format(results[0] , results[1] * 100, results[2] * 100))"
   ]
  },
  {
   "cell_type": "code",
   "execution_count": 14,
   "metadata": {
    "collapsed": false
   },
   "outputs": [
    {
     "name": "stdout",
     "output_type": "stream",
     "text": [
      "[[537   0   0   0   0   0]\n",
      " [  0 392  99   0   0   0]\n",
      " [  0 107 425   0   0   0]\n",
      " [  0   0   0 477  11   8]\n",
      " [  0   0   0  54 280  86]\n",
      " [  0   0   0  42   6 423]]\n",
      "85.9857482185\n",
      "             precision    recall  f1-score   support\n",
      "\n",
      "          0       1.00      1.00      1.00       537\n",
      "          1       0.79      0.80      0.79       491\n",
      "          2       0.81      0.80      0.80       532\n",
      "          3       0.83      0.96      0.89       496\n",
      "          4       0.94      0.67      0.78       420\n",
      "          5       0.82      0.90      0.86       471\n",
      "\n",
      "avg / total       0.86      0.86      0.86      2947\n",
      "\n"
     ]
    }
   ],
   "source": [
    "from sklearn import metrics\n",
    "from matplotlib import pylab\n",
    "\n",
    "final_model = RandomForestClassifier(n_estimators=200,max_features=None,bootstrap=True,oob_score=True,max_depth=5)\n",
    "final_model.fit(X_train.values, Y_train.astype(int))\n",
    "y_pred = final_model.predict(X_test.values)\n",
    "\n",
    "\n",
    "from sklearn.metrics import confusion_matrix, accuracy_score\n",
    "cf = confusion_matrix(Y_test.astype(int), y_pred)\n",
    "print(cf)\n",
    "print(accuracy_score(Y_test.astype(int), y_pred) * 100) \n",
    "\n",
    "# #Update. 19Jun2017. Included classiifcation report.\n",
    "from sklearn.metrics import classification_report\n",
    "report = classification_report(Y_test.astype(int), y_pred)\n",
    "print(report)"
   ]
  },
  {
   "cell_type": "code",
   "execution_count": 15,
   "metadata": {
    "collapsed": false
   },
   "outputs": [
    {
     "name": "stdout",
     "output_type": "stream",
     "text": [
      "[[537   0   0   0   0   0]\n",
      " [  0 400  91   0   0   0]\n",
      " [  0 113 419   0   0   0]\n",
      " [  0   0   0 470  10  16]\n",
      " [  0   0   0  49 266 105]\n",
      " [  0   0   0  86   6 379]]\n",
      "83.8479809976\n",
      "             precision    recall  f1-score   support\n",
      "\n",
      "          0       1.00      1.00      1.00       537\n",
      "          1       0.78      0.81      0.80       491\n",
      "          2       0.82      0.79      0.80       532\n",
      "          3       0.78      0.95      0.85       496\n",
      "          4       0.94      0.63      0.76       420\n",
      "          5       0.76      0.80      0.78       471\n",
      "\n",
      "avg / total       0.85      0.84      0.84      2947\n",
      "\n"
     ]
    }
   ],
   "source": [
    "final_model = RandomForestClassifier(n_estimators=1,max_features=None,bootstrap=False,max_depth=5)\n",
    "final_model.fit(X_train.values, Y_train.astype(int))\n",
    "y_pred = final_model.predict(X_test.values)\n",
    "\n",
    "\n",
    "from sklearn.metrics import confusion_matrix, accuracy_score\n",
    "cf = confusion_matrix(Y_test.astype(int), y_pred)\n",
    "print(cf)\n",
    "print(accuracy_score(Y_test.astype(int), y_pred) * 100) \n",
    "\n",
    "# #Update. 19Jun2017. Included classiifcation report.\n",
    "from sklearn.metrics import classification_report\n",
    "report = classification_report(Y_test.astype(int), y_pred)\n",
    "print(report)"
   ]
  },
  {
   "cell_type": "code",
   "execution_count": 16,
   "metadata": {
    "collapsed": false
   },
   "outputs": [
    {
     "name": "stdout",
     "output_type": "stream",
     "text": [
      "[[537   0   0   0   0   0]\n",
      " [  0 391 100   0   0   0]\n",
      " [  0  43 489   0   0   0]\n",
      " [  0   0   0 484  10   2]\n",
      " [  0   0   0  62 305  53]\n",
      " [  0   0   0  42   6 423]]\n",
      "89.2093654564\n",
      "             precision    recall  f1-score   support\n",
      "\n",
      "          0       1.00      1.00      1.00       537\n",
      "          1       0.90      0.80      0.85       491\n",
      "          2       0.83      0.92      0.87       532\n",
      "          3       0.82      0.98      0.89       496\n",
      "          4       0.95      0.73      0.82       420\n",
      "          5       0.88      0.90      0.89       471\n",
      "\n",
      "avg / total       0.90      0.89      0.89      2947\n",
      "\n"
     ]
    }
   ],
   "source": [
    "final_model = RandomForestClassifier(n_estimators=200,max_features='sqrt',bootstrap=True,max_depth=5)\n",
    "final_model.fit(X_train.values, Y_train.astype(int))\n",
    "y_pred = final_model.predict(X_test.values)\n",
    "\n",
    "\n",
    "from sklearn.metrics import confusion_matrix, accuracy_score\n",
    "cf = confusion_matrix(Y_test.astype(int), y_pred)\n",
    "print(cf)\n",
    "print(accuracy_score(Y_test.astype(int), y_pred) * 100) \n",
    "\n",
    "# #Update. 19Jun2017. Included classiifcation report.\n",
    "from sklearn.metrics import classification_report\n",
    "report = classification_report(Y_test.astype(int), y_pred)\n",
    "print(report)"
   ]
  },
  {
   "cell_type": "code",
   "execution_count": 21,
   "metadata": {
    "collapsed": false
   },
   "outputs": [
    {
     "name": "stdout",
     "output_type": "stream",
     "text": [
      "[[537   0   0   0   0   0]\n",
      " [  0 432  57   0   0   2]\n",
      " [  0  28 504   0   0   0]\n",
      " [  0   0   0 487   4   5]\n",
      " [  0   0   0   7 380  33]\n",
      " [  0   0   0  34   5 432]]\n",
      "94.0617577197\n",
      "             precision    recall  f1-score   support\n",
      "\n",
      "          0       1.00      1.00      1.00       537\n",
      "          1       0.94      0.88      0.91       491\n",
      "          2       0.90      0.95      0.92       532\n",
      "          3       0.92      0.98      0.95       496\n",
      "          4       0.98      0.90      0.94       420\n",
      "          5       0.92      0.92      0.92       471\n",
      "\n",
      "avg / total       0.94      0.94      0.94      2947\n",
      "\n"
     ]
    }
   ],
   "source": [
    "from xgboost import XGBClassifier\n",
    "\n",
    "final_model = XGBClassifier(n_estimators=100,num_boost_round=1,max_depth=5,subsample=0.632,colsample_bytree=0.5)\n",
    "final_model.fit(X_train.values, Y_train.astype(int))\n",
    "y_pred = final_model.predict(X_test.values)\n",
    "\n",
    "\n",
    "from sklearn.metrics import confusion_matrix, accuracy_score\n",
    "cf = confusion_matrix(Y_test.astype(int), y_pred)\n",
    "print(cf)\n",
    "print(accuracy_score(Y_test.astype(int), y_pred) * 100) \n",
    "\n",
    "# #Update. 19Jun2017. Included classiifcation report.\n",
    "from sklearn.metrics import classification_report\n",
    "report = classification_report(Y_test.astype(int), y_pred)\n",
    "print(report)"
   ]
  },
  {
   "cell_type": "code",
   "execution_count": 20,
   "metadata": {
    "collapsed": false
   },
   "outputs": [
    {
     "name": "stdout",
     "output_type": "stream",
     "text": [
      "[[537   0   0   0   0   0]\n",
      " [  0 379 108   0   0   4]\n",
      " [  0  83 444   0   1   4]\n",
      " [  0   2   0 453  26  15]\n",
      " [  0   5   0  40 340  35]\n",
      " [  0   9   0  80  30 352]]\n",
      "85.0016966407\n",
      "             precision    recall  f1-score   support\n",
      "\n",
      "          0       1.00      1.00      1.00       537\n",
      "          1       0.79      0.77      0.78       491\n",
      "          2       0.80      0.83      0.82       532\n",
      "          3       0.79      0.91      0.85       496\n",
      "          4       0.86      0.81      0.83       420\n",
      "          5       0.86      0.75      0.80       471\n",
      "\n",
      "avg / total       0.85      0.85      0.85      2947\n",
      "\n"
     ]
    }
   ],
   "source": [
    "from xgboost import XGBClassifier\n",
    "\n",
    "final_model = XGBClassifier(n_estimators=1,num_boost_round=1,max_depth=5,subsample=1,colsample_bytree=1)\n",
    "final_model.fit(X_train.values, Y_train.astype(int))\n",
    "y_pred = final_model.predict(X_test.values)\n",
    "\n",
    "\n",
    "from sklearn.metrics import confusion_matrix, accuracy_score\n",
    "cf = confusion_matrix(Y_test.astype(int), y_pred)\n",
    "print(cf)\n",
    "print(accuracy_score(Y_test.astype(int), y_pred) * 100) \n",
    "\n",
    "# #Update. 19Jun2017. Included classiifcation report.\n",
    "from sklearn.metrics import classification_report\n",
    "report = classification_report(Y_test.astype(int), y_pred)\n",
    "print(report)"
   ]
  },
  {
   "cell_type": "code",
   "execution_count": 19,
   "metadata": {
    "collapsed": false
   },
   "outputs": [
    {
     "name": "stdout",
     "output_type": "stream",
     "text": [
      "[[537   0   0   0   0   0]\n",
      " [  0 421  68   0   0   2]\n",
      " [  0  29 503   0   0   0]\n",
      " [  0   0   0 488   4   4]\n",
      " [  0   0   0   8 382  30]\n",
      " [  0   0   0  29   5 437]]\n",
      "93.9260264676\n",
      "             precision    recall  f1-score   support\n",
      "\n",
      "          0       1.00      1.00      1.00       537\n",
      "          1       0.94      0.86      0.89       491\n",
      "          2       0.88      0.95      0.91       532\n",
      "          3       0.93      0.98      0.96       496\n",
      "          4       0.98      0.91      0.94       420\n",
      "          5       0.92      0.93      0.93       471\n",
      "\n",
      "avg / total       0.94      0.94      0.94      2947\n",
      "\n"
     ]
    }
   ],
   "source": [
    "from xgboost import XGBClassifier\n",
    "\n",
    "final_model = XGBClassifier(n_estimators=100,num_boost_round=1,max_depth=5,subsample=0.632,colsample_bytree=1)\n",
    "final_model.fit(X_train.values, Y_train.astype(int))\n",
    "y_pred = final_model.predict(X_test.values)\n",
    "\n",
    "\n",
    "from sklearn.metrics import confusion_matrix, accuracy_score\n",
    "cf = confusion_matrix(Y_test.astype(int), y_pred)\n",
    "print(cf)\n",
    "print(accuracy_score(Y_test.astype(int), y_pred) * 100) \n",
    "\n",
    "# #Update. 19Jun2017. Included classiifcation report.\n",
    "from sklearn.metrics import classification_report\n",
    "report = classification_report(Y_test.astype(int), y_pred)\n",
    "print(report)"
   ]
  },
  {
   "cell_type": "code",
   "execution_count": 6,
   "metadata": {
    "collapsed": false
   },
   "outputs": [
    {
     "name": "stderr",
     "output_type": "stream",
     "text": [
      "Using Theano backend.\n"
     ]
    }
   ],
   "source": [
    "from keras.models import Sequential\n",
    "from keras.callbacks import EarlyStopping, ModelCheckpoint,History\n",
    "from keras.layers import Dense, Activation, Dropout, Input\n",
    "from keras import optimizers\n",
    "history=History()"
   ]
  },
  {
   "cell_type": "code",
   "execution_count": 25,
   "metadata": {
    "collapsed": true
   },
   "outputs": [],
   "source": [
    "m = Sequential()\n",
    "m.add(Dense(128, activation='sigmoid', input_shape=(X_train.shape[1],)))\n",
    "m.add(Dropout(0.5))\n",
    "m.add(Dense(128, activation='sigmoid'))\n",
    "m.add(Dropout(0.5))\n",
    "m.add(Dense(128, activation='sigmoid'))\n",
    "m.add(Dropout(0.5))\n",
    "m.add(Dense(len(np.unique(Y_train)), activation='softmax'))\n",
    "    \n",
    "m.compile(\n",
    "    optimizer=optimizers.adam(lr=0.001),\n",
    "    loss='categorical_crossentropy',\n",
    "    metrics=['accuracy']\n",
    ")"
   ]
  },
  {
   "cell_type": "code",
   "execution_count": 26,
   "metadata": {
    "collapsed": false
   },
   "outputs": [
    {
     "name": "stdout",
     "output_type": "stream",
     "text": [
      "Train on 6616 samples, validate on 736 samples\n",
      "Epoch 1/200\n",
      "Epoch 00000: val_loss improved from inf to 1.62317, saving model to best.model\n",
      "0s - loss: 1.9051 - acc: 0.2030 - val_loss: 1.6232 - val_acc: 0.3492\n",
      "Epoch 2/200\n",
      "Epoch 00001: val_loss improved from 1.62317 to 1.21547, saving model to best.model\n",
      "0s - loss: 1.5445 - acc: 0.3049 - val_loss: 1.2155 - val_acc: 0.3546\n",
      "Epoch 3/200\n",
      "Epoch 00002: val_loss improved from 1.21547 to 1.12036, saving model to best.model\n",
      "0s - loss: 1.2638 - acc: 0.3420 - val_loss: 1.1204 - val_acc: 0.3750\n",
      "Epoch 4/200\n",
      "Epoch 00003: val_loss improved from 1.12036 to 1.09218, saving model to best.model\n",
      "0s - loss: 1.1921 - acc: 0.3543 - val_loss: 1.0922 - val_acc: 0.4049\n",
      "Epoch 5/200\n",
      "Epoch 00004: val_loss improved from 1.09218 to 1.05918, saving model to best.model\n",
      "0s - loss: 1.1523 - acc: 0.3774 - val_loss: 1.0592 - val_acc: 0.5394\n",
      "Epoch 6/200\n",
      "Epoch 00005: val_loss improved from 1.05918 to 0.98676, saving model to best.model\n",
      "0s - loss: 1.1044 - acc: 0.4141 - val_loss: 0.9868 - val_acc: 0.5856\n",
      "Epoch 7/200\n",
      "Epoch 00006: val_loss improved from 0.98676 to 0.83761, saving model to best.model\n",
      "0s - loss: 1.0101 - acc: 0.5101 - val_loss: 0.8376 - val_acc: 0.7609\n",
      "Epoch 8/200\n",
      "Epoch 00007: val_loss improved from 0.83761 to 0.68704, saving model to best.model\n",
      "0s - loss: 0.8829 - acc: 0.5816 - val_loss: 0.6870 - val_acc: 0.7568\n",
      "Epoch 9/200\n",
      "Epoch 00008: val_loss improved from 0.68704 to 0.59642, saving model to best.model\n",
      "0s - loss: 0.7678 - acc: 0.6301 - val_loss: 0.5964 - val_acc: 0.8057\n",
      "Epoch 10/200\n",
      "Epoch 00009: val_loss improved from 0.59642 to 0.51864, saving model to best.model\n",
      "0s - loss: 0.7025 - acc: 0.6518 - val_loss: 0.5186 - val_acc: 0.8274\n",
      "Epoch 11/200\n",
      "Epoch 00010: val_loss improved from 0.51864 to 0.46483, saving model to best.model\n",
      "0s - loss: 0.6341 - acc: 0.6947 - val_loss: 0.4648 - val_acc: 0.8438\n",
      "Epoch 12/200\n",
      "Epoch 00011: val_loss improved from 0.46483 to 0.41741, saving model to best.model\n",
      "0s - loss: 0.5884 - acc: 0.7183 - val_loss: 0.4174 - val_acc: 0.8981\n",
      "Epoch 13/200\n",
      "Epoch 00012: val_loss improved from 0.41741 to 0.36845, saving model to best.model\n",
      "0s - loss: 0.5440 - acc: 0.7444 - val_loss: 0.3684 - val_acc: 0.8750\n",
      "Epoch 14/200\n",
      "Epoch 00013: val_loss improved from 0.36845 to 0.31279, saving model to best.model\n",
      "0s - loss: 0.4917 - acc: 0.7780 - val_loss: 0.3128 - val_acc: 0.8641\n",
      "Epoch 15/200\n",
      "Epoch 00014: val_loss improved from 0.31279 to 0.26663, saving model to best.model\n",
      "0s - loss: 0.4401 - acc: 0.8041 - val_loss: 0.2666 - val_acc: 0.9022\n",
      "Epoch 16/200\n",
      "Epoch 00015: val_loss improved from 0.26663 to 0.24057, saving model to best.model\n",
      "0s - loss: 0.3908 - acc: 0.8245 - val_loss: 0.2406 - val_acc: 0.9429\n",
      "Epoch 17/200\n",
      "Epoch 00016: val_loss improved from 0.24057 to 0.21657, saving model to best.model\n",
      "0s - loss: 0.3624 - acc: 0.8436 - val_loss: 0.2166 - val_acc: 0.9633\n",
      "Epoch 18/200\n",
      "Epoch 00017: val_loss improved from 0.21657 to 0.19632, saving model to best.model\n",
      "0s - loss: 0.3350 - acc: 0.8544 - val_loss: 0.1963 - val_acc: 0.9606\n",
      "Epoch 19/200\n",
      "Epoch 00018: val_loss improved from 0.19632 to 0.17394, saving model to best.model\n",
      "0s - loss: 0.3081 - acc: 0.8727 - val_loss: 0.1739 - val_acc: 0.9592\n",
      "Epoch 20/200\n",
      "Epoch 00019: val_loss improved from 0.17394 to 0.17058, saving model to best.model\n",
      "0s - loss: 0.2886 - acc: 0.8830 - val_loss: 0.1706 - val_acc: 0.9524\n",
      "Epoch 21/200\n",
      "Epoch 00020: val_loss improved from 0.17058 to 0.14625, saving model to best.model\n",
      "0s - loss: 0.2665 - acc: 0.8940 - val_loss: 0.1462 - val_acc: 0.9620\n",
      "Epoch 22/200\n",
      "Epoch 00021: val_loss improved from 0.14625 to 0.13066, saving model to best.model\n",
      "0s - loss: 0.2454 - acc: 0.9052 - val_loss: 0.1307 - val_acc: 0.9565\n",
      "Epoch 23/200\n",
      "Epoch 00022: val_loss improved from 0.13066 to 0.12373, saving model to best.model\n",
      "0s - loss: 0.2336 - acc: 0.9095 - val_loss: 0.1237 - val_acc: 0.9592\n",
      "Epoch 24/200\n",
      "Epoch 00023: val_loss improved from 0.12373 to 0.12236, saving model to best.model\n",
      "0s - loss: 0.2147 - acc: 0.9205 - val_loss: 0.1224 - val_acc: 0.9579\n",
      "Epoch 25/200\n",
      "Epoch 00024: val_loss improved from 0.12236 to 0.11933, saving model to best.model\n",
      "0s - loss: 0.1959 - acc: 0.9282 - val_loss: 0.1193 - val_acc: 0.9565\n",
      "Epoch 26/200\n",
      "Epoch 00025: val_loss did not improve\n",
      "0s - loss: 0.1958 - acc: 0.9305 - val_loss: 0.1211 - val_acc: 0.9497\n",
      "Epoch 27/200\n",
      "Epoch 00026: val_loss improved from 0.11933 to 0.11038, saving model to best.model\n",
      "0s - loss: 0.1804 - acc: 0.9361 - val_loss: 0.1104 - val_acc: 0.9511\n",
      "Epoch 28/200\n",
      "Epoch 00027: val_loss improved from 0.11038 to 0.10371, saving model to best.model\n",
      "0s - loss: 0.1686 - acc: 0.9380 - val_loss: 0.1037 - val_acc: 0.9579\n",
      "Epoch 29/200\n",
      "Epoch 00028: val_loss did not improve\n",
      "0s - loss: 0.1733 - acc: 0.9344 - val_loss: 0.1109 - val_acc: 0.9524\n",
      "Epoch 30/200\n",
      "Epoch 00029: val_loss did not improve\n",
      "0s - loss: 0.1525 - acc: 0.9445 - val_loss: 0.1256 - val_acc: 0.9443\n",
      "Epoch 31/200\n",
      "Epoch 00030: val_loss improved from 0.10371 to 0.10339, saving model to best.model\n",
      "0s - loss: 0.1491 - acc: 0.9491 - val_loss: 0.1034 - val_acc: 0.9552\n",
      "Epoch 32/200\n",
      "Epoch 00031: val_loss did not improve\n",
      "0s - loss: 0.1507 - acc: 0.9451 - val_loss: 0.1442 - val_acc: 0.9375\n",
      "Epoch 33/200\n",
      "Epoch 00032: val_loss did not improve\n",
      "0s - loss: 0.1444 - acc: 0.9480 - val_loss: 0.1161 - val_acc: 0.9484\n",
      "Epoch 34/200\n",
      "Epoch 00033: val_loss improved from 0.10339 to 0.09115, saving model to best.model\n",
      "0s - loss: 0.1335 - acc: 0.9498 - val_loss: 0.0912 - val_acc: 0.9592\n",
      "Epoch 35/200\n",
      "Epoch 00034: val_loss did not improve\n",
      "0s - loss: 0.1355 - acc: 0.9503 - val_loss: 0.1122 - val_acc: 0.9538\n",
      "Epoch 36/200\n",
      "Epoch 00035: val_loss did not improve\n",
      "0s - loss: 0.1247 - acc: 0.9553 - val_loss: 0.1037 - val_acc: 0.9538\n",
      "Epoch 37/200\n",
      "Epoch 00036: val_loss did not improve\n",
      "0s - loss: 0.1207 - acc: 0.9575 - val_loss: 0.0923 - val_acc: 0.9579\n",
      "Epoch 38/200\n",
      "Epoch 00037: val_loss did not improve\n",
      "0s - loss: 0.1257 - acc: 0.9536 - val_loss: 0.1298 - val_acc: 0.9443\n",
      "Epoch 39/200\n",
      "Epoch 00038: val_loss did not improve\n",
      "0s - loss: 0.1150 - acc: 0.9587 - val_loss: 0.0927 - val_acc: 0.9552\n",
      "Epoch 40/200\n",
      "Epoch 00039: val_loss did not improve\n",
      "0s - loss: 0.1143 - acc: 0.9613 - val_loss: 0.1530 - val_acc: 0.9389\n",
      "Epoch 41/200\n",
      "Epoch 00040: val_loss did not improve\n",
      "0s - loss: 0.1229 - acc: 0.9551 - val_loss: 0.1285 - val_acc: 0.9470\n",
      "Epoch 42/200\n",
      "Epoch 00041: val_loss did not improve\n",
      "0s - loss: 0.1092 - acc: 0.9613 - val_loss: 0.1545 - val_acc: 0.9348\n",
      "Epoch 43/200\n",
      "Epoch 00042: val_loss did not improve\n",
      "0s - loss: 0.1066 - acc: 0.9619 - val_loss: 0.1107 - val_acc: 0.9538\n",
      "Epoch 44/200\n",
      "Epoch 00043: val_loss improved from 0.09115 to 0.08402, saving model to best.model\n",
      "0s - loss: 0.1038 - acc: 0.9649 - val_loss: 0.0840 - val_acc: 0.9606\n",
      "Epoch 45/200\n",
      "Epoch 00044: val_loss did not improve\n",
      "0s - loss: 0.0928 - acc: 0.9664 - val_loss: 0.0931 - val_acc: 0.9552\n",
      "Epoch 46/200\n",
      "Epoch 00045: val_loss improved from 0.08402 to 0.07570, saving model to best.model\n",
      "0s - loss: 0.0995 - acc: 0.9667 - val_loss: 0.0757 - val_acc: 0.9660\n",
      "Epoch 47/200\n",
      "Epoch 00046: val_loss did not improve\n",
      "0s - loss: 0.1045 - acc: 0.9651 - val_loss: 0.0842 - val_acc: 0.9606\n",
      "Epoch 48/200\n",
      "Epoch 00047: val_loss did not improve\n",
      "0s - loss: 0.0975 - acc: 0.9643 - val_loss: 0.0899 - val_acc: 0.9565\n",
      "Epoch 49/200\n",
      "Epoch 00048: val_loss did not improve\n",
      "0s - loss: 0.0991 - acc: 0.9646 - val_loss: 0.1230 - val_acc: 0.9497\n",
      "Epoch 50/200\n",
      "Epoch 00049: val_loss did not improve\n",
      "0s - loss: 0.0955 - acc: 0.9674 - val_loss: 0.1321 - val_acc: 0.9497\n",
      "Epoch 51/200\n",
      "Epoch 00050: val_loss did not improve\n",
      "0s - loss: 0.0904 - acc: 0.9669 - val_loss: 0.0878 - val_acc: 0.9565\n",
      "Epoch 52/200\n",
      "Epoch 00051: val_loss did not improve\n",
      "0s - loss: 0.0878 - acc: 0.9689 - val_loss: 0.0964 - val_acc: 0.9579\n",
      "Epoch 53/200\n",
      "Epoch 00052: val_loss did not improve\n",
      "0s - loss: 0.0886 - acc: 0.9678 - val_loss: 0.1089 - val_acc: 0.9579\n",
      "Epoch 54/200\n",
      "Epoch 00053: val_loss did not improve\n",
      "0s - loss: 0.0903 - acc: 0.9655 - val_loss: 0.1126 - val_acc: 0.9552\n",
      "Epoch 55/200\n",
      "Epoch 00054: val_loss did not improve\n",
      "0s - loss: 0.0808 - acc: 0.9723 - val_loss: 0.0759 - val_acc: 0.9674\n",
      "Epoch 56/200\n",
      "Epoch 00055: val_loss did not improve\n",
      "0s - loss: 0.0839 - acc: 0.9722 - val_loss: 0.0993 - val_acc: 0.9524\n",
      "Epoch 57/200\n",
      "Epoch 00056: val_loss did not improve\n",
      "0s - loss: 0.0823 - acc: 0.9710 - val_loss: 0.0889 - val_acc: 0.9592\n",
      "Epoch 58/200\n",
      "Epoch 00057: val_loss did not improve\n",
      "0s - loss: 0.0914 - acc: 0.9681 - val_loss: 0.0946 - val_acc: 0.9552\n",
      "Epoch 59/200\n",
      "Epoch 00058: val_loss did not improve\n",
      "0s - loss: 0.0856 - acc: 0.9695 - val_loss: 0.1154 - val_acc: 0.9511\n",
      "Epoch 60/200\n",
      "Epoch 00059: val_loss did not improve\n",
      "0s - loss: 0.0810 - acc: 0.9702 - val_loss: 0.0786 - val_acc: 0.9633\n",
      "Epoch 61/200\n",
      "Epoch 00060: val_loss improved from 0.07570 to 0.07409, saving model to best.model\n",
      "0s - loss: 0.0836 - acc: 0.9722 - val_loss: 0.0741 - val_acc: 0.9674\n",
      "Epoch 62/200\n",
      "Epoch 00061: val_loss did not improve\n",
      "0s - loss: 0.0823 - acc: 0.9699 - val_loss: 0.1370 - val_acc: 0.9497\n",
      "Epoch 63/200\n",
      "Epoch 00062: val_loss did not improve\n",
      "0s - loss: 0.0765 - acc: 0.9722 - val_loss: 0.1181 - val_acc: 0.9497\n",
      "Epoch 64/200\n",
      "Epoch 00063: val_loss did not improve\n",
      "0s - loss: 0.0745 - acc: 0.9719 - val_loss: 0.0867 - val_acc: 0.9606\n",
      "Epoch 65/200\n",
      "Epoch 00064: val_loss did not improve\n",
      "0s - loss: 0.0739 - acc: 0.9742 - val_loss: 0.1090 - val_acc: 0.9538\n",
      "Epoch 66/200\n",
      "Epoch 00065: val_loss did not improve\n",
      "0s - loss: 0.0770 - acc: 0.9720 - val_loss: 0.1065 - val_acc: 0.9579\n",
      "Epoch 67/200\n",
      "Epoch 00066: val_loss did not improve\n",
      "0s - loss: 0.0823 - acc: 0.9699 - val_loss: 0.0916 - val_acc: 0.9606\n",
      "Epoch 68/200\n",
      "Epoch 00067: val_loss did not improve\n",
      "0s - loss: 0.0750 - acc: 0.9725 - val_loss: 0.0971 - val_acc: 0.9606\n",
      "Epoch 69/200\n",
      "Epoch 00068: val_loss did not improve\n",
      "0s - loss: 0.0768 - acc: 0.9720 - val_loss: 0.0789 - val_acc: 0.9647\n",
      "Epoch 70/200\n",
      "Epoch 00069: val_loss did not improve\n",
      "0s - loss: 0.0706 - acc: 0.9751 - val_loss: 0.1044 - val_acc: 0.9592\n",
      "Epoch 71/200\n",
      "Epoch 00070: val_loss improved from 0.07409 to 0.06961, saving model to best.model\n",
      "0s - loss: 0.0710 - acc: 0.9766 - val_loss: 0.0696 - val_acc: 0.9687\n",
      "Epoch 72/200\n",
      "Epoch 00071: val_loss did not improve\n",
      "0s - loss: 0.0714 - acc: 0.9740 - val_loss: 0.0728 - val_acc: 0.9674\n",
      "Epoch 73/200\n",
      "Epoch 00072: val_loss did not improve\n",
      "0s - loss: 0.0757 - acc: 0.9716 - val_loss: 0.1099 - val_acc: 0.9552\n",
      "Epoch 74/200\n",
      "Epoch 00073: val_loss did not improve\n",
      "0s - loss: 0.0726 - acc: 0.9752 - val_loss: 0.0788 - val_acc: 0.9660\n",
      "Epoch 75/200\n",
      "Epoch 00074: val_loss did not improve\n",
      "0s - loss: 0.0724 - acc: 0.9731 - val_loss: 0.0779 - val_acc: 0.9620\n",
      "Epoch 76/200\n",
      "Epoch 00075: val_loss did not improve\n",
      "0s - loss: 0.0708 - acc: 0.9767 - val_loss: 0.0941 - val_acc: 0.9592\n",
      "Epoch 77/200\n",
      "Epoch 00076: val_loss did not improve\n",
      "0s - loss: 0.0631 - acc: 0.9779 - val_loss: 0.1027 - val_acc: 0.9579\n",
      "Epoch 78/200\n",
      "Epoch 00077: val_loss did not improve\n",
      "0s - loss: 0.0677 - acc: 0.9755 - val_loss: 0.1064 - val_acc: 0.9579\n",
      "Epoch 79/200\n",
      "Epoch 00078: val_loss did not improve\n",
      "0s - loss: 0.0678 - acc: 0.9764 - val_loss: 0.0772 - val_acc: 0.9674\n",
      "Epoch 80/200\n",
      "Epoch 00079: val_loss did not improve\n",
      "0s - loss: 0.0656 - acc: 0.9748 - val_loss: 0.0978 - val_acc: 0.9565\n",
      "Epoch 81/200\n",
      "Epoch 00080: val_loss did not improve\n",
      "0s - loss: 0.0697 - acc: 0.9761 - val_loss: 0.0942 - val_acc: 0.9592\n",
      "Epoch 82/200\n",
      "Epoch 00081: val_loss did not improve\n",
      "0s - loss: 0.0604 - acc: 0.9776 - val_loss: 0.1421 - val_acc: 0.9484\n",
      "Epoch 83/200\n",
      "Epoch 00082: val_loss did not improve\n",
      "0s - loss: 0.0623 - acc: 0.9766 - val_loss: 0.1099 - val_acc: 0.9579\n",
      "Epoch 84/200\n",
      "Epoch 00083: val_loss did not improve\n",
      "0s - loss: 0.0629 - acc: 0.9761 - val_loss: 0.0696 - val_acc: 0.9687\n",
      "Epoch 85/200\n",
      "Epoch 00084: val_loss improved from 0.06961 to 0.05049, saving model to best.model\n",
      "0s - loss: 0.0671 - acc: 0.9769 - val_loss: 0.0505 - val_acc: 0.9769\n",
      "Epoch 86/200\n",
      "Epoch 00085: val_loss did not improve\n",
      "0s - loss: 0.0707 - acc: 0.9745 - val_loss: 0.0783 - val_acc: 0.9647\n",
      "Epoch 87/200\n",
      "Epoch 00086: val_loss did not improve\n",
      "0s - loss: 0.0609 - acc: 0.9773 - val_loss: 0.0706 - val_acc: 0.9660\n",
      "Epoch 88/200\n",
      "Epoch 00087: val_loss did not improve\n",
      "0s - loss: 0.0642 - acc: 0.9761 - val_loss: 0.1075 - val_acc: 0.9579\n",
      "Epoch 89/200\n",
      "Epoch 00088: val_loss did not improve\n",
      "0s - loss: 0.0636 - acc: 0.9794 - val_loss: 0.0880 - val_acc: 0.9606\n",
      "Epoch 90/200\n",
      "Epoch 00089: val_loss did not improve\n",
      "0s - loss: 0.0640 - acc: 0.9793 - val_loss: 0.0825 - val_acc: 0.9620\n",
      "Epoch 91/200\n",
      "Epoch 00090: val_loss did not improve\n",
      "0s - loss: 0.0657 - acc: 0.9745 - val_loss: 0.0953 - val_acc: 0.9606\n",
      "Epoch 92/200\n",
      "Epoch 00091: val_loss did not improve\n",
      "0s - loss: 0.0630 - acc: 0.9770 - val_loss: 0.0818 - val_acc: 0.9633\n",
      "Epoch 93/200\n",
      "Epoch 00092: val_loss did not improve\n",
      "0s - loss: 0.0575 - acc: 0.9793 - val_loss: 0.0538 - val_acc: 0.9728\n",
      "Epoch 94/200\n",
      "Epoch 00093: val_loss did not improve\n",
      "0s - loss: 0.0676 - acc: 0.9751 - val_loss: 0.0800 - val_acc: 0.9620\n",
      "Epoch 95/200\n",
      "Epoch 00094: val_loss did not improve\n",
      "0s - loss: 0.0560 - acc: 0.9799 - val_loss: 0.0895 - val_acc: 0.9606\n",
      "Epoch 96/200\n",
      "Epoch 00095: val_loss did not improve\n",
      "0s - loss: 0.0636 - acc: 0.9764 - val_loss: 0.1048 - val_acc: 0.9579\n",
      "Epoch 97/200\n",
      "Epoch 00096: val_loss did not improve\n",
      "0s - loss: 0.0685 - acc: 0.9757 - val_loss: 0.0698 - val_acc: 0.9674\n",
      "Epoch 98/200\n",
      "Epoch 00097: val_loss did not improve\n",
      "0s - loss: 0.0627 - acc: 0.9754 - val_loss: 0.0864 - val_acc: 0.9620\n",
      "Epoch 99/200\n",
      "Epoch 00098: val_loss did not improve\n",
      "0s - loss: 0.0603 - acc: 0.9773 - val_loss: 0.1035 - val_acc: 0.9592\n",
      "Epoch 100/200\n",
      "Epoch 00099: val_loss did not improve\n",
      "0s - loss: 0.0586 - acc: 0.9754 - val_loss: 0.1312 - val_acc: 0.9552\n",
      "Epoch 101/200\n",
      "Epoch 00100: val_loss did not improve\n",
      "0s - loss: 0.0618 - acc: 0.9787 - val_loss: 0.1135 - val_acc: 0.9565\n",
      "Epoch 102/200\n",
      "Epoch 00101: val_loss did not improve\n",
      "0s - loss: 0.0611 - acc: 0.9763 - val_loss: 0.0840 - val_acc: 0.9647\n",
      "Epoch 103/200\n",
      "Epoch 00102: val_loss did not improve\n",
      "0s - loss: 0.0591 - acc: 0.9772 - val_loss: 0.0739 - val_acc: 0.9674\n",
      "Epoch 104/200\n",
      "Epoch 00103: val_loss did not improve\n",
      "0s - loss: 0.0598 - acc: 0.9776 - val_loss: 0.0928 - val_acc: 0.9606\n",
      "Epoch 105/200\n",
      "Epoch 00104: val_loss did not improve\n",
      "0s - loss: 0.0596 - acc: 0.9779 - val_loss: 0.0678 - val_acc: 0.9701\n",
      "Epoch 106/200\n",
      "Epoch 00105: val_loss did not improve\n",
      "0s - loss: 0.0564 - acc: 0.9785 - val_loss: 0.0691 - val_acc: 0.9674\n",
      "Epoch 107/200\n",
      "Epoch 00106: val_loss did not improve\n",
      "0s - loss: 0.0562 - acc: 0.9805 - val_loss: 0.0830 - val_acc: 0.9647\n",
      "Epoch 108/200\n",
      "Epoch 00107: val_loss did not improve\n",
      "0s - loss: 0.0563 - acc: 0.9793 - val_loss: 0.0756 - val_acc: 0.9647\n",
      "Epoch 109/200\n",
      "Epoch 00108: val_loss did not improve\n",
      "0s - loss: 0.0562 - acc: 0.9788 - val_loss: 0.1144 - val_acc: 0.9579\n",
      "Epoch 110/200\n",
      "Epoch 00109: val_loss did not improve\n",
      "0s - loss: 0.0561 - acc: 0.9791 - val_loss: 0.0764 - val_acc: 0.9660\n",
      "Epoch 111/200\n",
      "Epoch 00110: val_loss did not improve\n",
      "0s - loss: 0.0522 - acc: 0.9804 - val_loss: 0.0970 - val_acc: 0.9592\n"
     ]
    }
   ],
   "source": [
    "hist=m.fit(\n",
    "    # Feature matrix\n",
    "    X_train.values, \n",
    "    # Target class one-hot-encoded\n",
    "    pd.get_dummies(pd.DataFrame(Y_train), columns=[0]).as_matrix(),\n",
    "    \n",
    "    # Iterations to be run if not stopped by EarlyStopping\n",
    "    epochs=200, \n",
    "    callbacks=[\n",
    "        # Stop iterations when validation loss has not improved\n",
    "        EarlyStopping(monitor='val_loss', patience=25),\n",
    "        history,\n",
    "        # Nice for keeping the last model before overfitting occurs\n",
    "        ModelCheckpoint(\n",
    "            'best.model', \n",
    "            monitor='val_loss',\n",
    "            save_best_only=True,\n",
    "            verbose=1\n",
    "        )\n",
    "    ],\n",
    "    verbose=2,\n",
    "    validation_split=0.1,\n",
    "    batch_size=32\n",
    ")"
   ]
  },
  {
   "cell_type": "code",
   "execution_count": 27,
   "metadata": {
    "collapsed": false
   },
   "outputs": [
    {
     "data": {
      "image/png": "[encoded data removed]",
      "text/plain": [
       "<matplotlib.figure.Figure at 0x121e4c990>"
      ]
     },
     "metadata": {},
     "output_type": "display_data"
    }
   ],
   "source": [
    "plt.plot(hist.history['loss'])\n",
    "plt.plot(hist.history['val_loss'])\n",
    "plt.title('model loss')\n",
    "plt.ylabel('loss')\n",
    "plt.xlabel('epoch')\n",
    "plt.legend(['train', 'test'], loc='upper left')\n",
    "plt.show()"
   ]
  },
  {
   "cell_type": "code",
   "execution_count": 28,
   "metadata": {
    "collapsed": true
   },
   "outputs": [],
   "source": [
    "m.load_weights(\"best.model\")"
   ]
  },
  {
   "cell_type": "code",
   "execution_count": 29,
   "metadata": {
    "collapsed": true
   },
   "outputs": [],
   "source": [
    "mapping = (\n",
    "    pd.get_dummies(pd.DataFrame(Y_train), columns=[0], prefix='', prefix_sep='')\n",
    "    .columns.astype(int).values\n",
    ")\n",
    "y_pred_nn = [mapping[pred] for pred in m.predict(X_test.values).argmax(axis=1)]"
   ]
  },
  {
   "cell_type": "code",
   "execution_count": 30,
   "metadata": {
    "collapsed": false
   },
   "outputs": [
    {
     "name": "stdout",
     "output_type": "stream",
     "text": [
      "[[526   0   0   0   0  11]\n",
      " [  0 385 104   0   0   2]\n",
      " [  0  10 522   0   0   0]\n",
      " [  0   0   0 474  19   3]\n",
      " [  0   0   0   9 384  27]\n",
      " [  0   0   0  19  12 440]]\n",
      "92.6705123855\n",
      "             precision    recall  f1-score   support\n",
      "\n",
      "          0       1.00      0.98      0.99       537\n",
      "          1       0.97      0.78      0.87       491\n",
      "          2       0.83      0.98      0.90       532\n",
      "          3       0.94      0.96      0.95       496\n",
      "          4       0.93      0.91      0.92       420\n",
      "          5       0.91      0.93      0.92       471\n",
      "\n",
      "avg / total       0.93      0.93      0.93      2947\n",
      "\n"
     ]
    }
   ],
   "source": [
    "from sklearn.metrics import confusion_matrix, accuracy_score\n",
    "cf = confusion_matrix(Y_test.astype(int), y_pred_nn)\n",
    "print(cf)\n",
    "print(accuracy_score(Y_test.astype(int), y_pred_nn) * 100) \n",
    "\n",
    "# #Update. 19Jun2017. Included classiifcation report.\n",
    "from sklearn.metrics import classification_report\n",
    "report = classification_report(Y_test.astype(int), y_pred_nn)\n",
    "print(report)"
   ]
  },
  {
   "cell_type": "code",
   "execution_count": null,
   "metadata": {
    "collapsed": true
   },
   "outputs": [],
   "source": []
  }
 ],
 "metadata": {
  "kernelspec": {
   "display_name": "Python [Root]",
   "language": "python",
   "name": "Python [Root]"
  },
  "language_info": {
   "codemirror_mode": {
    "name": "ipython",
    "version": 2
   },
   "file_extension": ".py",
   "mimetype": "text/x-python",
   "name": "python",
   "nbconvert_exporter": "python",
   "pygments_lexer": "ipython2",
   "version": "2.7.13"
  }
 },
 "nbformat": 4,
 "nbformat_minor": 2
}
